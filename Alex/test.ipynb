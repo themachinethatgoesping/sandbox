{
 "cells": [
  {
   "cell_type": "markdown",
   "metadata": {},
   "source": [
    "Import ping and check its version"
   ]
  },
  {
   "cell_type": "code",
   "execution_count": 5,
   "metadata": {},
   "outputs": [
    {
     "name": "stdout",
     "output_type": "stream",
     "text": [
      "themachinethatgoesping\n",
      "- version:       0.10.3\n",
      "\n",
      "modules:\n",
      "- tools          0.20.0\n",
      "- algorithms     0.5.2\n",
      "- navigation     0.14.0\n",
      "- echosounders   0.27.6\n",
      "- gridding       0.1.7\n"
     ]
    }
   ],
   "source": [
    "import themachinethatgoesping as ping\n",
    "ping.version()"
   ]
  },
  {
   "cell_type": "markdown",
   "metadata": {},
   "source": [
    "* Set a file\n",
    "* Open and pre-process file\n",
    "* Display nav\n",
    "* Display bathy\n",
    "* Display WCD\n",
    "    * echogram\n",
    "    * wedge view\n",
    "    * stack\n",
    "    * echo integrated"
   ]
  },
  {
   "cell_type": "code",
   "execution_count": 3,
   "metadata": {},
   "outputs": [
    {
     "name": "stdout",
     "output_type": "stream",
     "text": [
      "themachinethatgoesping\n",
      "- version:       0.10.3\n",
      "\n",
      "modules:\n",
      "- tools          0.20.0\n",
      "- algorithms     0.5.2\n",
      "- navigation     0.14.0\n",
      "- echosounders   0.27.6\n",
      "- gridding       0.1.7\n"
     ]
    }
   ],
   "source": []
  }
 ],
 "metadata": {
  "kernelspec": {
   "display_name": "ping",
   "language": "python",
   "name": "python3"
  },
  "language_info": {
   "codemirror_mode": {
    "name": "ipython",
    "version": 3
   },
   "file_extension": ".py",
   "mimetype": "text/x-python",
   "name": "python",
   "nbconvert_exporter": "python",
   "pygments_lexer": "ipython3",
   "version": "3.10.13"
  }
 },
 "nbformat": 4,
 "nbformat_minor": 2
}
